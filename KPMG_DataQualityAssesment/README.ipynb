{
 "cells": [
  {
   "cell_type": "markdown",
   "id": "3b1e325d",
   "metadata": {},
   "source": [
    "# KPMG Data Quality Assesment"
   ]
  },
  {
   "cell_type": "markdown",
   "id": "bf1f9ca3",
   "metadata": {},
   "source": [
    "### *Background Information*\n",
    "Sprocket Central Pty Ltd(fictional) , a medium size bikes & cycling accessories organisation, has approached Tony Smith (Partner) in KPMG’s Lighthouse & Innovation Team.\n",
    "The client provided KPMG with 4 datasets:\n",
    "\n",
    "-Customer Demographic \n",
    "\n",
    "-Customer Addresses\n",
    "\n",
    "-Transactions data in the past 3 months\n",
    "\n",
    "-NewCustomerList\n"
   ]
  },
  {
   "cell_type": "markdown",
   "id": "51959502",
   "metadata": {},
   "source": [
    "### *Module 1 Task*\n",
    "Your task is to take a look at the following datasets provided by Sprocket Central Pty Ltd and identify all data quality issues. Once you've had a look at these datasets, draft an email to the client identifying all data quality issues."
   ]
  },
  {
   "cell_type": "markdown",
   "id": "29b1d311",
   "metadata": {},
   "source": [
    "I seperated the datasets and uploaded the individual datasets into jupyter notebook to explore the data.\n",
    "\n",
    "Some of the quality issues included;\n",
    "\n",
    "-Null entry values\n",
    "\n",
    "-Incorrect column entry ['Default'] on CustomerDemoghraphic\n",
    "\n",
    "-Inconsistent Data entry eg:\n",
    "F/Femal/Female all representing the same thing.\n",
    "\n",
    "M/Male Also representing the same thing.\n",
    "\n",
    "New South Wales/NSW \n",
    "\n",
    "VIC/Victoria\n",
    "\n",
    "-Separate datasets\n",
    "\n",
    "\n",
    "All the issues were solved and clean combined dataset produced as Customer_Transactions."
   ]
  },
  {
   "cell_type": "markdown",
   "id": "6830a823",
   "metadata": {},
   "source": [
    "### *Module 2 Task*\n",
    "Create a PowerPoint presentation which outlines the approach we will be taking to identify which of the 1000 customers Sprocket Central Pty Ltd should target, based on this dataset. Explain the three phases:  Data Exploration; Model Development and Interpretation."
   ]
  },
  {
   "cell_type": "markdown",
   "id": "2c78b962",
   "metadata": {},
   "source": [
    "### *Module 3 Task*\n",
    "Develop a dashboard that can be presented to the client at the next meeting.Display your data summary and results of the analysis in a dashboard.Specifically, your presentation should specify who Sprocket Central Pty Ltd' should be targeting out of the new 1000 customer list. "
   ]
  }
 ],
 "metadata": {
  "kernelspec": {
   "display_name": "Python 3 (ipykernel)",
   "language": "python",
   "name": "python3"
  },
  "language_info": {
   "codemirror_mode": {
    "name": "ipython",
    "version": 3
   },
   "file_extension": ".py",
   "mimetype": "text/x-python",
   "name": "python",
   "nbconvert_exporter": "python",
   "pygments_lexer": "ipython3",
   "version": "3.9.12"
  }
 },
 "nbformat": 4,
 "nbformat_minor": 5
}
